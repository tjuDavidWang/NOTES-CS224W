{
 "cells": [
  {
   "cell_type": "markdown",
   "metadata": {},
   "source": [
    "# 棒棒糖图特征分析\n",
    "\n",
    "同济子豪兄 2022-7-4\n",
    "\n",
    "参考文档：https://networkx.org/documentation/stable/auto_examples/basic/plot_properties.html#sphx-glr-auto-examples-basic-plot-properties-py"
   ]
  },
  {
   "cell_type": "markdown",
   "metadata": {},
   "source": [
    "## 导入工具包"
   ]
  },
  {
   "cell_type": "code",
   "execution_count": 1,
   "metadata": {},
   "outputs": [],
   "source": [
    "# 图数据挖掘\n",
    "import networkx as nx\n",
    "\n",
    "# 数据可视化\n",
    "import matplotlib.pyplot as plt\n",
    "%matplotlib inline\n",
    "\n",
    "# plt.rcParams['font.sans-serif']=['SimHei']  # 用来正常显示中文标签  \n",
    "plt.rcParams['axes.unicode_minus']=False  # 用来正常显示负号"
   ]
  },
  {
   "cell_type": "markdown",
   "metadata": {},
   "source": [
    "## 导入图"
   ]
  },
  {
   "cell_type": "code",
   "execution_count": 2,
   "metadata": {},
   "outputs": [],
   "source": [
    "# 第一个参数指定头部节点数，第二个参数指定尾部节点数\n",
    "G = nx.lollipop_graph(4, 7)"
   ]
  },
  {
   "cell_type": "markdown",
   "metadata": {},
   "source": [
    "## 可视化"
   ]
  },
  {
   "cell_type": "code",
   "execution_count": 3,
   "metadata": {},
   "outputs": [
    {
     "data": {
      "image/png": "[encoded data removed]",
      "text/plain": [
       "<Figure size 640x480 with 1 Axes>"
      ]
     },
     "metadata": {},
     "output_type": "display_data"
    }
   ],
   "source": [
    "pos = nx.spring_layout(G, seed=3068)\n",
    "nx.draw(G, pos=pos, with_labels=True)\n",
    "plt.show()"
   ]
  },
  {
   "cell_type": "markdown",
   "metadata": {},
   "source": [
    "## 图数据分析"
   ]
  },
  {
   "cell_type": "code",
   "execution_count": 4,
   "metadata": {},
   "outputs": [
    {
     "data": {
      "text/plain": [
       "4"
      ]
     },
     "execution_count": 4,
     "metadata": {},
     "output_type": "execute_result"
    }
   ],
   "source": [
    "# 半径\n",
    "nx.radius(G)"
   ]
  },
  {
   "cell_type": "code",
   "execution_count": 5,
   "metadata": {},
   "outputs": [
    {
     "data": {
      "text/plain": [
       "8"
      ]
     },
     "execution_count": 5,
     "metadata": {},
     "output_type": "execute_result"
    }
   ],
   "source": [
    "# 直径\n",
    "nx.diameter(G)"
   ]
  },
  {
   "cell_type": "code",
   "execution_count": 6,
   "metadata": {},
   "outputs": [
    {
     "data": {
      "text/plain": [
       "{0: 8, 1: 8, 2: 8, 3: 7, 4: 6, 5: 5, 6: 4, 7: 5, 8: 6, 9: 7, 10: 8}"
      ]
     },
     "execution_count": 6,
     "metadata": {},
     "output_type": "execute_result"
    }
   ],
   "source": [
    "# 偏心度：每个节点到图中其它节点的最远距离\n",
    "nx.eccentricity(G)"
   ]
  },
  {
   "cell_type": "code",
   "execution_count": 7,
   "metadata": {},
   "outputs": [
    {
     "data": {
      "text/plain": [
       "[6]"
      ]
     },
     "execution_count": 7,
     "metadata": {},
     "output_type": "execute_result"
    }
   ],
   "source": [
    "# 中心节点，偏心度与半径相等的节点\n",
    "nx.center(G)"
   ]
  },
  {
   "cell_type": "code",
   "execution_count": 8,
   "metadata": {},
   "outputs": [
    {
     "data": {
      "text/plain": [
       "[0, 1, 2, 10]"
      ]
     },
     "execution_count": 8,
     "metadata": {},
     "output_type": "execute_result"
    }
   ],
   "source": [
    "# 外围节点，偏心度与直径相等的节点\n",
    "nx.periphery(G)"
   ]
  },
  {
   "cell_type": "code",
   "execution_count": 9,
   "metadata": {},
   "outputs": [
    {
     "name": "stdout",
     "output_type": "stream",
     "text": [
      "\u001b[1;31mSignature:\u001b[0m \u001b[0mnx\u001b[0m\u001b[1;33m.\u001b[0m\u001b[0mdensity\u001b[0m\u001b[1;33m(\u001b[0m\u001b[0mG\u001b[0m\u001b[1;33m)\u001b[0m\u001b[1;33m\u001b[0m\u001b[1;33m\u001b[0m\u001b[0m\n",
      "\u001b[1;31mDocstring:\u001b[0m\n",
      "Returns the density of a graph.\n",
      "\n",
      "The density for undirected graphs is\n",
      "\n",
      ".. math::\n",
      "\n",
      "   d = \\frac{2m}{n(n-1)},\n",
      "\n",
      "and for directed graphs is\n",
      "\n",
      ".. math::\n",
      "\n",
      "   d = \\frac{m}{n(n-1)},\n",
      "\n",
      "where `n` is the number of nodes and `m`  is the number of edges in `G`.\n",
      "\n",
      "Notes\n",
      "-----\n",
      "The density is 0 for a graph without edges and 1 for a complete graph.\n",
      "The density of multigraphs can be higher than 1.\n",
      "\n",
      "Self loops are counted in the total number of edges so graphs with self\n",
      "loops can have density higher than 1.\n",
      "\u001b[1;31mFile:\u001b[0m      c:\\users\\12920\\anaconda3\\lib\\site-packages\\networkx\\classes\\function.py\n",
      "\u001b[1;31mType:\u001b[0m      function"
     ]
    }
   ],
   "source": [
    "nx.density?"
   ]
  },
  {
   "cell_type": "code",
   "execution_count": 10,
   "metadata": {},
   "outputs": [
    {
     "data": {
      "text/plain": [
       "0.23636363636363636"
      ]
     },
     "execution_count": 10,
     "metadata": {},
     "output_type": "execute_result"
    }
   ],
   "source": [
    "nx.density(G)"
   ]
  },
  {
   "cell_type": "markdown",
   "metadata": {},
   "source": [
    "n为节点个数，m为连接个数\n",
    "\n",
    "对于无向图：\n",
    "\n",
    "$$\n",
    "density = \\frac{2m}{n(n-1)}\n",
    "$$\n",
    "\n",
    "对于有向图：\n",
    "\n",
    "$$\n",
    "density = \\frac{m}{n(n-1)}\n",
    "$$\n",
    "\n",
    "无连接图的density为0，全连接图的density为1，Multigraph（多重连接图）和带self loop图的density可能大于1。"
   ]
  },
  {
   "cell_type": "markdown",
   "metadata": {},
   "source": [
    "## 3号节点到图中其它节点的最短距离"
   ]
  },
  {
   "cell_type": "code",
   "execution_count": 11,
   "metadata": {},
   "outputs": [
    {
     "data": {
      "text/plain": [
       "{3: 0, 0: 1, 1: 1, 2: 1, 4: 1, 5: 2, 6: 3, 7: 4, 8: 5, 9: 6, 10: 7}"
      ]
     },
     "execution_count": 11,
     "metadata": {},
     "output_type": "execute_result"
    }
   ],
   "source": [
    "node_id = 3\n",
    "nx.single_source_shortest_path_length(G, node_id)"
   ]
  },
  {
   "cell_type": "markdown",
   "metadata": {},
   "source": [
    "## 每两个节点之间的最短距离"
   ]
  },
  {
   "cell_type": "code",
   "execution_count": 12,
   "metadata": {},
   "outputs": [
    {
     "name": "stdout",
     "output_type": "stream",
     "text": [
      "0 --> 0 最短距离 0\n",
      "0 --> 1 最短距离 1\n",
      "0 --> 2 最短距离 1\n",
      "0 --> 3 最短距离 1\n",
      "0 --> 4 最短距离 2\n",
      "0 --> 5 最短距离 3\n",
      "0 --> 6 最短距离 4\n",
      "0 --> 7 最短距离 5\n",
      "0 --> 8 最短距离 6\n",
      "0 --> 9 最短距离 7\n",
      "0 --> 10 最短距离 8\n",
      "1 --> 1 最短距离 0\n",
      "1 --> 0 最短距离 1\n",
      "1 --> 2 最短距离 1\n",
      "1 --> 3 最短距离 1\n",
      "1 --> 4 最短距离 2\n",
      "1 --> 5 最短距离 3\n",
      "1 --> 6 最短距离 4\n",
      "1 --> 7 最短距离 5\n",
      "1 --> 8 最短距离 6\n",
      "1 --> 9 最短距离 7\n",
      "1 --> 10 最短距离 8\n",
      "2 --> 2 最短距离 0\n",
      "2 --> 0 最短距离 1\n",
      "2 --> 1 最短距离 1\n",
      "2 --> 3 最短距离 1\n",
      "2 --> 4 最短距离 2\n",
      "2 --> 5 最短距离 3\n",
      "2 --> 6 最短距离 4\n",
      "2 --> 7 最短距离 5\n",
      "2 --> 8 最短距离 6\n",
      "2 --> 9 最短距离 7\n",
      "2 --> 10 最短距离 8\n",
      "3 --> 3 最短距离 0\n",
      "3 --> 0 最短距离 1\n",
      "3 --> 1 最短距离 1\n",
      "3 --> 2 最短距离 1\n",
      "3 --> 4 最短距离 1\n",
      "3 --> 5 最短距离 2\n",
      "3 --> 6 最短距离 3\n",
      "3 --> 7 最短距离 4\n",
      "3 --> 8 最短距离 5\n",
      "3 --> 9 最短距离 6\n",
      "3 --> 10 最短距离 7\n",
      "4 --> 4 最短距离 0\n",
      "4 --> 5 最短距离 1\n",
      "4 --> 3 最短距离 1\n",
      "4 --> 6 最短距离 2\n",
      "4 --> 0 最短距离 2\n",
      "4 --> 1 最短距离 2\n",
      "4 --> 2 最短距离 2\n",
      "4 --> 7 最短距离 3\n",
      "4 --> 8 最短距离 4\n",
      "4 --> 9 最短距离 5\n",
      "4 --> 10 最短距离 6\n",
      "5 --> 5 最短距离 0\n",
      "5 --> 4 最短距离 1\n",
      "5 --> 6 最短距离 1\n",
      "5 --> 3 最短距离 2\n",
      "5 --> 7 最短距离 2\n",
      "5 --> 0 最短距离 3\n",
      "5 --> 1 最短距离 3\n",
      "5 --> 2 最短距离 3\n",
      "5 --> 8 最短距离 3\n",
      "5 --> 9 最短距离 4\n",
      "5 --> 10 最短距离 5\n",
      "6 --> 6 最短距离 0\n",
      "6 --> 5 最短距离 1\n",
      "6 --> 7 最短距离 1\n",
      "6 --> 4 最短距离 2\n",
      "6 --> 8 最短距离 2\n",
      "6 --> 3 最短距离 3\n",
      "6 --> 9 最短距离 3\n",
      "6 --> 0 最短距离 4\n",
      "6 --> 1 最短距离 4\n",
      "6 --> 2 最短距离 4\n",
      "6 --> 10 最短距离 4\n",
      "7 --> 7 最短距离 0\n",
      "7 --> 6 最短距离 1\n",
      "7 --> 8 最短距离 1\n",
      "7 --> 5 最短距离 2\n",
      "7 --> 9 最短距离 2\n",
      "7 --> 4 最短距离 3\n",
      "7 --> 10 最短距离 3\n",
      "7 --> 3 最短距离 4\n",
      "7 --> 0 最短距离 5\n",
      "7 --> 1 最短距离 5\n",
      "7 --> 2 最短距离 5\n",
      "8 --> 8 最短距离 0\n",
      "8 --> 7 最短距离 1\n",
      "8 --> 9 最短距离 1\n",
      "8 --> 6 最短距离 2\n",
      "8 --> 10 最短距离 2\n",
      "8 --> 5 最短距离 3\n",
      "8 --> 4 最短距离 4\n",
      "8 --> 3 最短距离 5\n",
      "8 --> 0 最短距离 6\n",
      "8 --> 1 最短距离 6\n",
      "8 --> 2 最短距离 6\n",
      "9 --> 9 最短距离 0\n",
      "9 --> 8 最短距离 1\n",
      "9 --> 10 最短距离 1\n",
      "9 --> 7 最短距离 2\n",
      "9 --> 6 最短距离 3\n",
      "9 --> 5 最短距离 4\n",
      "9 --> 4 最短距离 5\n",
      "9 --> 3 最短距离 6\n",
      "9 --> 0 最短距离 7\n",
      "9 --> 1 最短距离 7\n",
      "9 --> 2 最短距离 7\n",
      "10 --> 10 最短距离 0\n",
      "10 --> 9 最短距离 1\n",
      "10 --> 8 最短距离 2\n",
      "10 --> 7 最短距离 3\n",
      "10 --> 6 最短距离 4\n",
      "10 --> 5 最短距离 5\n",
      "10 --> 4 最短距离 6\n",
      "10 --> 3 最短距离 7\n",
      "10 --> 0 最短距离 8\n",
      "10 --> 1 最短距离 8\n",
      "10 --> 2 最短距离 8\n"
     ]
    }
   ],
   "source": [
    "pathlengths = []\n",
    "for v in G.nodes():\n",
    "    spl = nx.single_source_shortest_path_length(G, v)\n",
    "    for p in spl:\n",
    "        print('{} --> {} 最短距离 {}'.format(v, p, spl[p]))\n",
    "        pathlengths.append(spl[p])"
   ]
  },
  {
   "cell_type": "code",
   "execution_count": 13,
   "metadata": {},
   "outputs": [
    {
     "data": {
      "text/plain": [
       "3.2231404958677685"
      ]
     },
     "execution_count": 13,
     "metadata": {},
     "output_type": "execute_result"
    }
   ],
   "source": [
    "# 平均最短距离\n",
    "sum(pathlengths) / len(pathlengths)"
   ]
  },
  {
   "cell_type": "markdown",
   "metadata": {},
   "source": [
    "## 不同距离的节点对个数"
   ]
  },
  {
   "cell_type": "code",
   "execution_count": 14,
   "metadata": {},
   "outputs": [],
   "source": [
    "dist = {}\n",
    "for p in pathlengths:\n",
    "    if p in dist:\n",
    "        dist[p] += 1\n",
    "    else:\n",
    "        dist[p] = 1"
   ]
  },
  {
   "cell_type": "code",
   "execution_count": 15,
   "metadata": {},
   "outputs": [
    {
     "data": {
      "text/plain": [
       "{0: 11, 1: 26, 2: 18, 3: 16, 4: 14, 5: 12, 6: 10, 7: 8, 8: 6}"
      ]
     },
     "execution_count": 15,
     "metadata": {},
     "output_type": "execute_result"
    }
   ],
   "source": [
    "dist"
   ]
  },
  {
   "cell_type": "code",
   "execution_count": null,
   "metadata": {},
   "outputs": [],
   "source": []
  }
 ],
 "metadata": {
  "kernelspec": {
   "display_name": "Python 3 (ipykernel)",
   "language": "python",
   "name": "python3"
  },
  "language_info": {
   "codemirror_mode": {
    "name": "ipython",
    "version": 3
   },
   "file_extension": ".py",
   "mimetype": "text/x-python",
   "name": "python",
   "nbconvert_exporter": "python",
   "pygments_lexer": "ipython3",
   "version": "3.10.11"
  }
 },
 "nbformat": 4,
 "nbformat_minor": 4
}
