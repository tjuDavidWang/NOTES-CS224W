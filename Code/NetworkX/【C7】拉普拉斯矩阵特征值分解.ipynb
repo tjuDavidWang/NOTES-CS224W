{
 "cells": [
  {
   "cell_type": "markdown",
   "metadata": {},
   "source": [
    "# 拉普拉斯矩阵特征值分解\n",
    "\n",
    "同济子豪兄 2022-7-9\n",
    "\n",
    "参考文档：https://networkx.org/documentation/stable/auto_examples/drawing/plot_eigenvalues.html#sphx-glr-auto-examples-drawing-plot-eigenvalues-py"
   ]
  },
  {
   "cell_type": "markdown",
   "metadata": {},
   "source": [
    "## 导入工具包"
   ]
  },
  {
   "cell_type": "code",
   "execution_count": 1,
   "metadata": {},
   "outputs": [],
   "source": [
    "# 图数据挖掘\n",
    "import networkx as nx\n",
    "\n",
    "import numpy as np\n",
    "\n",
    "# 数据可视化\n",
    "import matplotlib.pyplot as plt\n",
    "%matplotlib inline\n",
    "\n",
    "plt.rcParams['font.sans-serif']=['SimHei']  # 用来正常显示中文标签  \n",
    "plt.rcParams['axes.unicode_minus']=False  # 用来正常显示负号"
   ]
  },
  {
   "cell_type": "code",
   "execution_count": 2,
   "metadata": {},
   "outputs": [],
   "source": [
    "import numpy.linalg # 线性代数"
   ]
  },
  {
   "cell_type": "markdown",
   "metadata": {},
   "source": [
    "## 创建图"
   ]
  },
  {
   "cell_type": "code",
   "execution_count": 3,
   "metadata": {},
   "outputs": [],
   "source": [
    "n = 1000  # 节点个数\n",
    "m = 5000  # 连接个数\n",
    "G = nx.gnm_random_graph(n, m, seed=5040)"
   ]
  },
  {
   "cell_type": "markdown",
   "metadata": {},
   "source": [
    "## 邻接矩阵（Adjacency Matrix）"
   ]
  },
  {
   "cell_type": "code",
   "execution_count": 4,
   "metadata": {},
   "outputs": [],
   "source": [
    "A = nx.adjacency_matrix(G)"
   ]
  },
  {
   "cell_type": "code",
   "execution_count": 5,
   "metadata": {},
   "outputs": [
    {
     "data": {
      "text/plain": [
       "(1000, 1000)"
      ]
     },
     "execution_count": 5,
     "metadata": {},
     "output_type": "execute_result"
    }
   ],
   "source": [
    "A.shape"
   ]
  },
  {
   "cell_type": "code",
   "execution_count": 6,
   "metadata": {},
   "outputs": [
    {
     "data": {
      "text/plain": [
       "array([[0, 0, 0, ..., 0, 0, 0],\n",
       "       [0, 0, 0, ..., 0, 0, 0],\n",
       "       [0, 0, 0, ..., 0, 0, 0],\n",
       "       ...,\n",
       "       [0, 0, 0, ..., 0, 0, 0],\n",
       "       [0, 0, 0, ..., 0, 0, 0],\n",
       "       [0, 0, 0, ..., 0, 0, 0]], dtype=int32)"
      ]
     },
     "execution_count": 6,
     "metadata": {},
     "output_type": "execute_result"
    }
   ],
   "source": [
    "A.todense()"
   ]
  },
  {
   "cell_type": "markdown",
   "metadata": {},
   "source": [
    "## 拉普拉斯矩阵（Laplacian Matrix）\n",
    "\n",
    "$$\n",
    "L = D - A\n",
    "$$\n",
    "\n",
    "L 为拉普拉斯矩阵（Laplacian Matrix）\n",
    "\n",
    "D 为节点degree对角矩阵\n",
    "\n",
    "A 为邻接矩阵（Adjacency Matrix）"
   ]
  },
  {
   "cell_type": "code",
   "execution_count": 7,
   "metadata": {},
   "outputs": [],
   "source": [
    "L = nx.laplacian_matrix(G)"
   ]
  },
  {
   "cell_type": "code",
   "execution_count": 8,
   "metadata": {},
   "outputs": [
    {
     "data": {
      "text/plain": [
       "(1000, 1000)"
      ]
     },
     "execution_count": 8,
     "metadata": {},
     "output_type": "execute_result"
    }
   ],
   "source": [
    "L.shape"
   ]
  },
  {
   "cell_type": "code",
   "execution_count": 9,
   "metadata": {},
   "outputs": [],
   "source": [
    "# 节点degree对角矩阵\n",
    "D = L + A"
   ]
  },
  {
   "cell_type": "code",
   "execution_count": 10,
   "metadata": {},
   "outputs": [
    {
     "data": {
      "text/plain": [
       "array([[12,  0,  0, ...,  0,  0,  0],\n",
       "       [ 0,  6,  0, ...,  0,  0,  0],\n",
       "       [ 0,  0,  8, ...,  0,  0,  0],\n",
       "       ...,\n",
       "       [ 0,  0,  0, ...,  8,  0,  0],\n",
       "       [ 0,  0,  0, ...,  0,  6,  0],\n",
       "       [ 0,  0,  0, ...,  0,  0,  7]], dtype=int32)"
      ]
     },
     "execution_count": 10,
     "metadata": {},
     "output_type": "execute_result"
    }
   ],
   "source": [
    "D.todense()"
   ]
  },
  {
   "cell_type": "code",
   "execution_count": 11,
   "metadata": {},
   "outputs": [],
   "source": [
    "# G.degree()"
   ]
  },
  {
   "cell_type": "markdown",
   "metadata": {},
   "source": [
    "## 归一化拉普拉斯矩阵（Normalized Laplacian Matrix）\n",
    "\n",
    "$$\n",
    "L_n = D^{-\\frac{1}{2}}LD^{-\\frac{1}{2}}\n",
    "$$"
   ]
  },
  {
   "cell_type": "code",
   "execution_count": 12,
   "metadata": {},
   "outputs": [],
   "source": [
    "L_n = nx.normalized_laplacian_matrix(G)"
   ]
  },
  {
   "cell_type": "code",
   "execution_count": 13,
   "metadata": {},
   "outputs": [
    {
     "data": {
      "text/plain": [
       "(1000, 1000)"
      ]
     },
     "execution_count": 13,
     "metadata": {},
     "output_type": "execute_result"
    }
   ],
   "source": [
    "L_n.shape"
   ]
  },
  {
   "cell_type": "code",
   "execution_count": 14,
   "metadata": {},
   "outputs": [
    {
     "data": {
      "text/plain": [
       "array([[1., 0., 0., ..., 0., 0., 0.],\n",
       "       [0., 1., 0., ..., 0., 0., 0.],\n",
       "       [0., 0., 1., ..., 0., 0., 0.],\n",
       "       ...,\n",
       "       [0., 0., 0., ..., 1., 0., 0.],\n",
       "       [0., 0., 0., ..., 0., 1., 0.],\n",
       "       [0., 0., 0., ..., 0., 0., 1.]])"
      ]
     },
     "execution_count": 14,
     "metadata": {},
     "output_type": "execute_result"
    }
   ],
   "source": [
    "L_n.todense()"
   ]
  },
  {
   "cell_type": "code",
   "execution_count": 15,
   "metadata": {},
   "outputs": [
    {
     "data": {
      "image/png": "[encoded data removed]",
      "text/plain": [
       "<Figure size 640x480 with 1 Axes>"
      ]
     },
     "metadata": {},
     "output_type": "display_data"
    }
   ],
   "source": [
    "plt.imshow(L_n.todense())\n",
    "plt.show()"
   ]
  },
  {
   "cell_type": "code",
   "execution_count": 16,
   "metadata": {},
   "outputs": [
    {
     "data": {
      "text/plain": [
       "scipy.sparse._csr.csr_array"
      ]
     },
     "execution_count": 16,
     "metadata": {},
     "output_type": "execute_result"
    }
   ],
   "source": [
    "type(L_n)"
   ]
  },
  {
   "cell_type": "markdown",
   "metadata": {},
   "source": [
    "## 特征值分解"
   ]
  },
  {
   "cell_type": "code",
   "execution_count": 17,
   "metadata": {},
   "outputs": [
    {
     "name": "stderr",
     "output_type": "stream",
     "text": [
      "c:\\Users\\12920\\anaconda3\\lib\\site-packages\\scipy\\sparse\\_base.py:719: VisibleDeprecationWarning: `.A` is deprecated and will be removed in v1.13.0. Use `.toarray()` instead.\n",
      "  warn(np.VisibleDeprecationWarning(\n"
     ]
    }
   ],
   "source": [
    "e = np.linalg.eigvals(L_n.A)"
   ]
  },
  {
   "cell_type": "code",
   "execution_count": 18,
   "metadata": {},
   "outputs": [
    {
     "data": {
      "text/plain": [
       "array([-1.36404605e-16,  1.59246179e+00,  1.58938840e+00,  1.58583526e+00,\n",
       "        4.02846420e-01,  4.06224295e-01,  4.12963520e-01,  4.15548851e-01,\n",
       "        4.16517467e-01,  4.20582471e-01,  4.24326947e-01,  4.29110624e-01,\n",
       "        1.58139953e+00,  1.58070318e+00,  4.31464217e-01,  4.33218297e-01,\n",
       "        1.57786096e+00,  1.57398179e+00,  1.57237733e+00,  4.35026221e-01,\n",
       "        4.37026657e-01,  4.40378510e-01,  4.42775893e-01,  1.57150969e+00,\n",
       "        1.57095514e+00,  4.45046086e-01,  4.46753827e-01,  4.54190661e-01,\n",
       "        4.48717950e-01,  4.49417823e-01,  4.50881547e-01,  1.56726875e+00,\n",
       "        4.55357875e-01,  1.56345866e+00,  1.56395825e+00,  1.56009824e+00,\n",
       "        1.55880096e+00,  1.55717189e+00,  1.55698938e+00,  1.55475549e+00,\n",
       "        1.54908738e+00,  1.54681927e+00,  1.54491505e+00,  1.54352783e+00,\n",
       "        1.54231896e+00,  1.54051439e+00,  1.54098279e+00,  1.53578067e+00,\n",
       "        1.53502733e+00,  1.53439005e+00,  1.53141471e+00,  1.53085674e+00,\n",
       "        1.52838134e+00,  1.52515680e+00,  1.52512114e+00,  1.52151217e+00,\n",
       "        1.52011306e+00,  1.52064972e+00,  1.51734481e+00,  1.51789644e+00,\n",
       "        1.51650845e+00,  1.51266269e+00,  1.51160361e+00,  1.51050284e+00,\n",
       "        1.50508573e+00,  1.50593131e+00,  1.50786560e+00,  1.50970637e+00,\n",
       "        1.50356363e+00,  1.50256425e+00,  1.50143743e+00,  1.48185134e+00,\n",
       "        1.48241248e+00,  1.49974932e+00,  1.50033534e+00,  1.48490224e+00,\n",
       "        1.49505706e+00,  1.48806489e+00,  1.49053530e+00,  1.49722359e+00,\n",
       "        1.49650057e+00,  1.49229941e+00,  1.48749487e+00,  1.48542791e+00,\n",
       "        1.49336377e+00,  1.48940564e+00,  4.58263114e-01,  4.57707915e-01,\n",
       "        4.61849308e-01,  4.63660933e-01,  4.64660065e-01,  4.66860929e-01,\n",
       "        4.69366311e-01,  4.69709000e-01,  4.73545468e-01,  4.65763726e-01,\n",
       "        4.88729605e-01,  4.76756569e-01,  4.74333012e-01,  4.79394325e-01,\n",
       "        4.75649819e-01,  4.80606513e-01,  4.83264820e-01,  4.88322850e-01,\n",
       "        4.86462532e-01,  4.84997389e-01,  4.85154008e-01,  1.47887385e+00,\n",
       "        1.47794501e+00,  1.47709645e+00,  1.47762024e+00,  1.47552207e+00,\n",
       "        1.47141067e+00,  1.47388061e+00,  1.47033271e+00,  1.44589494e+00,\n",
       "        1.44739972e+00,  1.46817150e+00,  1.46791556e+00,  1.46566928e+00,\n",
       "        1.44904512e+00,  1.45090139e+00,  1.45216238e+00,  1.46269200e+00,\n",
       "        1.46487844e+00,  1.45908676e+00,  1.46138525e+00,  1.45410520e+00,\n",
       "        1.45500080e+00,  1.45644004e+00,  1.44986013e+00,  1.46156481e+00,\n",
       "        1.45733801e+00,  1.45770660e+00,  4.91621993e-01,  4.90304444e-01,\n",
       "        4.94845030e-01,  4.96583277e-01,  5.09010234e-01,  5.02653227e-01,\n",
       "        5.00214562e-01,  4.95732976e-01,  5.04153801e-01,  4.99448904e-01,\n",
       "        5.05556356e-01,  5.06512201e-01,  5.07002615e-01,  5.01180333e-01,\n",
       "        1.42457194e+00,  1.42542313e+00,  1.42699849e+00,  1.42677234e+00,\n",
       "        1.42988927e+00,  1.43134759e+00,  1.44014343e+00,  1.43846236e+00,\n",
       "        1.44246039e+00,  1.44531749e+00,  1.43619292e+00,  1.43260357e+00,\n",
       "        1.43441916e+00,  1.44158907e+00,  1.44376226e+00,  1.43354375e+00,\n",
       "        1.43713890e+00,  1.43490982e+00,  5.23407726e-01,  5.10154623e-01,\n",
       "        5.11622478e-01,  5.16057435e-01,  5.14665415e-01,  5.12797358e-01,\n",
       "        5.16533531e-01,  5.18785357e-01,  5.22556927e-01,  5.20015126e-01,\n",
       "        5.21860072e-01,  1.41140670e+00,  1.41228135e+00,  1.41448341e+00,\n",
       "        1.42320539e+00,  1.41748057e+00,  1.41598484e+00,  1.41662929e+00,\n",
       "        1.41961351e+00,  1.41347984e+00,  1.41274341e+00,  1.42118742e+00,\n",
       "        1.42052766e+00,  5.34473212e-01,  5.25881593e-01,  5.27322194e-01,\n",
       "        5.30802877e-01,  5.29711336e-01,  5.28274379e-01,  5.32286178e-01,\n",
       "        5.33613821e-01,  1.39625743e+00,  1.39757348e+00,  1.39651349e+00,\n",
       "        1.39936317e+00,  1.40196461e+00,  1.40361810e+00,  1.40498931e+00,\n",
       "        1.40702610e+00,  1.40415543e+00,  1.40819911e+00,  1.40969057e+00,\n",
       "        5.39616555e-01,  5.40543078e-01,  5.38466485e-01,  5.37113507e-01,\n",
       "        5.45647110e-01,  5.44579715e-01,  5.42474931e-01,  5.42041958e-01,\n",
       "        1.38336173e+00,  1.38474073e+00,  1.38561715e+00,  1.38793243e+00,\n",
       "        1.38899394e+00,  1.39285233e+00,  1.39158171e+00,  1.39235250e+00,\n",
       "        1.38748697e+00,  1.39026791e+00,  1.39073914e+00,  5.48067206e-01,\n",
       "        5.55908434e-01,  5.47076780e-01,  5.51103949e-01,  5.51314655e-01,\n",
       "        5.53584120e-01,  5.54656573e-01,  1.37131925e+00,  1.37392113e+00,\n",
       "        1.37512858e+00,  1.37774739e+00,  1.37634495e+00,  1.37947093e+00,\n",
       "        1.37881800e+00,  1.38125128e+00,  1.38167394e+00,  5.65472145e-01,\n",
       "        5.57471020e-01,  5.63882730e-01,  5.63088387e-01,  5.58337114e-01,\n",
       "        5.57092578e-01,  5.60822980e-01,  5.60005758e-01,  5.59842586e-01,\n",
       "        1.36246682e+00,  1.36309440e+00,  1.36388306e+00,  1.36516216e+00,\n",
       "        1.36665422e+00,  1.36916170e+00,  1.36865728e+00,  1.37257584e+00,\n",
       "        1.36949557e+00,  5.75206362e-01,  5.66792887e-01,  5.68163292e-01,\n",
       "        5.74332679e-01,  5.73122697e-01,  5.69767689e-01,  5.71180265e-01,\n",
       "        5.71671829e-01,  1.34852611e+00,  1.35825257e+00,  1.35396561e+00,\n",
       "        1.35156900e+00,  1.35879561e+00,  1.35260850e+00,  1.35033800e+00,\n",
       "        1.36203150e+00,  1.35989991e+00,  1.35586993e+00,  1.35207043e+00,\n",
       "        5.77960813e-01,  5.76150660e-01,  5.79394345e-01,  5.87460119e-01,\n",
       "        5.83681701e-01,  5.79719792e-01,  5.80876426e-01,  5.84596718e-01,\n",
       "        5.86873671e-01,  5.85274871e-01,  5.80144591e-01,  1.33708760e+00,\n",
       "        1.33958685e+00,  1.34791812e+00,  1.34444118e+00,  1.34655649e+00,\n",
       "        1.34101904e+00,  1.34673590e+00,  1.34137536e+00,  1.33759979e+00,\n",
       "        1.33836469e+00,  1.34376097e+00,  1.34312125e+00,  5.89386166e-01,\n",
       "        5.90261268e-01,  5.91001619e-01,  5.92983371e-01,  5.93959106e-01,\n",
       "        5.95705426e-01,  5.97919803e-01,  5.97060240e-01,  5.98748029e-01,\n",
       "        6.00580835e-01,  6.02419530e-01,  6.04141444e-01,  6.09399496e-01,\n",
       "        6.05195590e-01,  6.08130437e-01,  6.06163058e-01,  1.33467291e+00,\n",
       "        1.33356642e+00,  1.33353622e+00,  1.33135861e+00,  1.33089137e+00,\n",
       "        1.32974796e+00,  1.32761807e+00,  1.32688731e+00,  1.32903147e+00,\n",
       "        1.32493231e+00,  1.32398795e+00,  6.06794009e-01,  1.32287971e+00,\n",
       "        1.32226357e+00,  1.31980662e+00,  1.31873099e+00,  6.07745807e-01,\n",
       "        6.12412754e-01,  6.13657145e-01,  6.15201677e-01,  6.15315692e-01,\n",
       "        6.33692333e-01,  6.16854160e-01,  6.17432000e-01,  6.31157494e-01,\n",
       "        6.30773304e-01,  6.29631006e-01,  6.28063384e-01,  6.19286055e-01,\n",
       "        6.19155567e-01,  6.26677455e-01,  6.26000554e-01,  6.20784837e-01,\n",
       "        6.24703063e-01,  6.21955003e-01,  6.22970752e-01,  6.23345569e-01,\n",
       "        1.31850111e+00,  1.31694076e+00,  1.31682571e+00,  1.31427225e+00,\n",
       "        1.31540567e+00,  1.31264081e+00,  1.31091189e+00,  1.31134978e+00,\n",
       "        1.31199748e+00,  1.30951757e+00,  1.30686024e+00,  1.30758594e+00,\n",
       "        1.30542684e+00,  1.28373546e+00,  1.28437195e+00,  1.28514574e+00,\n",
       "        1.30382561e+00,  1.30288162e+00,  1.30136724e+00,  1.28719307e+00,\n",
       "        1.30090213e+00,  1.29840484e+00,  1.28803298e+00,  1.29646412e+00,\n",
       "        1.28901556e+00,  1.29466676e+00,  1.29365910e+00,  1.29200739e+00,\n",
       "        1.29574206e+00,  1.28924255e+00,  1.29231633e+00,  1.28976842e+00,\n",
       "        1.29958428e+00,  1.29799070e+00,  6.33526526e-01,  6.36668778e-01,\n",
       "        1.27737563e+00,  1.27833574e+00,  1.28191198e+00,  1.27947509e+00,\n",
       "        1.27980733e+00,  6.39340556e-01,  6.40891240e-01,  6.40003085e-01,\n",
       "        6.38230678e-01,  6.43931497e-01,  6.44824140e-01,  6.45942076e-01,\n",
       "        6.38041969e-01,  6.42578924e-01,  1.26944987e+00,  1.27080942e+00,\n",
       "        1.27414338e+00,  1.27620437e+00,  1.27497234e+00,  1.27207000e+00,\n",
       "        1.27257572e+00,  6.47740396e-01,  6.46910912e-01,  6.49333625e-01,\n",
       "        6.50087115e-01,  6.52318365e-01,  6.52959112e-01,  6.54576429e-01,\n",
       "        6.55215186e-01,  6.64085930e-01,  6.56454904e-01,  6.61610402e-01,\n",
       "        6.59666762e-01,  6.57371358e-01,  6.62900038e-01,  6.57955638e-01,\n",
       "        6.58706226e-01,  1.26811588e+00,  1.26878733e+00,  1.26673857e+00,\n",
       "        1.26048628e+00,  1.26560294e+00,  1.26470672e+00,  1.26420761e+00,\n",
       "        1.26340327e+00,  1.25793615e+00,  1.25912400e+00,  1.25680929e+00,\n",
       "        6.65616378e-01,  6.68260383e-01,  6.67620678e-01,  6.66993282e-01,\n",
       "        6.67059473e-01,  6.70575768e-01,  6.83115379e-01,  6.71684325e-01,\n",
       "        6.82111187e-01,  6.72642906e-01,  6.80358246e-01,  6.79804833e-01,\n",
       "        6.77890709e-01,  6.73510066e-01,  6.76667866e-01,  6.75209362e-01,\n",
       "        6.75950273e-01,  1.25602378e+00,  1.25534221e+00,  1.25391793e+00,\n",
       "        1.24626839e+00,  1.25252782e+00,  1.25122551e+00,  1.25079026e+00,\n",
       "        1.24829816e+00,  1.25310634e+00,  1.24778863e+00,  1.24968180e+00,\n",
       "        1.24482088e+00,  1.21890759e+00,  1.24432037e+00,  1.24249914e+00,\n",
       "        1.24118789e+00,  1.23921461e+00,  1.23984234e+00,  1.21950696e+00,\n",
       "        1.22158944e+00,  1.22223062e+00,  1.23721805e+00,  1.23501389e+00,\n",
       "        1.22431197e+00,  1.22368134e+00,  1.23683283e+00,  1.23348236e+00,\n",
       "        1.23234892e+00,  1.22534298e+00,  1.22692043e+00,  1.22828401e+00,\n",
       "        1.22759292e+00,  1.22893641e+00,  1.23040340e+00,  1.23087696e+00,\n",
       "        1.23389599e+00,  6.89960451e-01,  6.88767734e-01,  6.87203802e-01,\n",
       "        6.86431431e-01,  6.84955046e-01,  6.81926690e-01,  1.21339933e+00,\n",
       "        1.21565564e+00,  1.21751454e+00,  1.21694695e+00,  1.21449493e+00,\n",
       "        6.91354947e-01,  6.92409058e-01,  6.92838790e-01,  6.94150637e-01,\n",
       "        6.95882431e-01,  7.05239494e-01,  7.04597555e-01,  7.06434623e-01,\n",
       "        6.97247135e-01,  7.01433772e-01,  6.97535138e-01,  6.98487439e-01,\n",
       "        7.00935442e-01,  6.98690904e-01,  7.00285839e-01,  1.21247512e+00,\n",
       "        1.21171224e+00,  1.19903363e+00,  1.20142492e+00,  1.20377045e+00,\n",
       "        1.20994370e+00,  1.20695693e+00,  1.20920597e+00,  1.20868563e+00,\n",
       "        1.20321833e+00,  1.20616293e+00,  1.20971109e+00,  1.20595271e+00,\n",
       "        7.08452312e-01,  7.09516280e-01,  7.10274060e-01,  7.11088509e-01,\n",
       "        7.11924218e-01,  7.12406042e-01,  7.13011152e-01,  7.20360188e-01,\n",
       "        7.14687647e-01,  7.23262941e-01,  7.24007246e-01,  7.22530572e-01,\n",
       "        7.18253243e-01,  7.17547077e-01,  7.16438282e-01,  7.16643011e-01,\n",
       "        1.19814294e+00,  1.20014148e+00,  1.19480915e+00,  1.19403208e+00,\n",
       "        1.19627166e+00,  1.20225131e+00,  1.19262244e+00,  1.19064988e+00,\n",
       "        1.18659280e+00,  1.19186692e+00,  1.18944009e+00,  1.18840186e+00,\n",
       "        1.19017353e+00,  1.18554652e+00,  1.18447973e+00,  1.18274954e+00,\n",
       "        1.18366718e+00,  1.16246837e+00,  1.16502095e+00,  1.18110359e+00,\n",
       "        1.17758991e+00,  1.17716708e+00,  1.18067934e+00,  1.16808885e+00,\n",
       "        1.16689933e+00,  1.16647929e+00,  1.17014359e+00,  1.17932922e+00,\n",
       "        1.17063766e+00,  1.17479928e+00,  1.17475038e+00,  1.17148059e+00,\n",
       "        1.17255624e+00,  1.17271869e+00,  7.25291200e-01,  7.32435753e-01,\n",
       "        7.29910680e-01,  7.27226857e-01,  7.26180600e-01,  7.27992378e-01,\n",
       "        7.28144977e-01,  1.16100104e+00,  1.15875440e+00,  1.15770494e+00,\n",
       "        1.16170679e+00,  1.16409103e+00,  1.15991856e+00,  7.34213213e-01,\n",
       "        7.33674521e-01,  7.31139225e-01,  7.30942788e-01,  7.36896076e-01,\n",
       "        7.35942912e-01,  7.38703834e-01,  7.39619657e-01,  7.39891225e-01,\n",
       "        7.40975755e-01,  7.42472983e-01,  7.44294126e-01,  7.47037913e-01,\n",
       "        7.43435723e-01,  7.41851634e-01,  7.45793573e-01,  1.14336534e+00,\n",
       "        1.15052578e+00,  1.15145968e+00,  1.15286692e+00,  1.15601214e+00,\n",
       "        1.15570543e+00,  1.15526838e+00,  1.14565453e+00,  1.15400092e+00,\n",
       "        1.14697227e+00,  1.14815175e+00,  1.14789819e+00,  7.49153489e-01,\n",
       "        7.61247600e-01,  7.56718086e-01,  7.54783274e-01,  7.53308879e-01,\n",
       "        7.51325287e-01,  7.51992222e-01,  7.58002797e-01,  7.59024267e-01,\n",
       "        7.50972835e-01,  7.58686838e-01,  1.14740025e+00,  1.14482219e+00,\n",
       "        1.14046282e+00,  1.14252807e+00,  1.14438008e+00,  1.13946274e+00,\n",
       "        1.13863116e+00,  1.13793116e+00,  1.13771024e+00,  1.13453864e+00,\n",
       "        1.13372130e+00,  1.13261141e+00,  1.13185736e+00,  1.13095055e+00,\n",
       "        1.11316940e+00,  1.11347310e+00,  1.11216278e+00,  1.12915192e+00,\n",
       "        1.12832339e+00,  1.12861060e+00,  1.12379688e+00,  1.12679555e+00,\n",
       "        1.12543896e+00,  1.12052578e+00,  1.11647880e+00,  1.11679129e+00,\n",
       "        1.11932918e+00,  1.11531134e+00,  1.12288673e+00,  1.11854678e+00,\n",
       "        1.11937384e+00,  1.12563409e+00,  7.62380745e-01,  7.68050425e-01,\n",
       "        7.66897839e-01,  7.65950723e-01,  7.65275532e-01,  7.60917329e-01,\n",
       "        7.63937722e-01,  7.64734607e-01,  1.11032815e+00,  7.70905749e-01,\n",
       "        7.71601725e-01,  7.72365296e-01,  7.70300693e-01,  7.73832408e-01,\n",
       "        7.75396105e-01,  7.76947720e-01,  7.77238021e-01,  7.80625720e-01,\n",
       "        7.81056755e-01,  1.10630661e+00,  1.10519834e+00,  1.09958489e+00,\n",
       "        1.10208341e+00,  1.10919413e+00,  1.10776253e+00,  1.09722104e+00,\n",
       "        1.10039305e+00,  1.10273177e+00,  1.09851448e+00,  1.10976593e+00,\n",
       "        1.10820223e+00,  7.83479770e-01,  7.82319426e-01,  7.82191150e-01,\n",
       "        7.84591177e-01,  7.99687583e-01,  7.85341264e-01,  7.86745501e-01,\n",
       "        7.97855779e-01,  7.96298647e-01,  7.95946946e-01,  7.95389609e-01,\n",
       "        7.87401410e-01,  7.93354135e-01,  7.89976979e-01,  7.92364279e-01,\n",
       "        7.91807064e-01,  7.89178668e-01,  7.91211265e-01,  1.09626017e+00,\n",
       "        1.09527316e+00,  1.09662238e+00,  1.09381938e+00,  1.09159473e+00,\n",
       "        1.09340372e+00,  1.09233394e+00,  1.09002744e+00,  1.08628866e+00,\n",
       "        1.08711981e+00,  1.08903417e+00,  1.08856517e+00,  1.08529852e+00,\n",
       "        1.06737357e+00,  1.06766066e+00,  1.08273866e+00,  1.08353207e+00,\n",
       "        1.08013231e+00,  1.07292634e+00,  1.06975392e+00,  1.06940531e+00,\n",
       "        1.07372574e+00,  1.08057783e+00,  1.07544553e+00,  1.08107430e+00,\n",
       "        1.07493431e+00,  1.07676645e+00,  1.07805228e+00,  1.07852118e+00,\n",
       "        8.02564047e-01,  8.01526828e-01,  8.00937501e-01,  1.06697749e+00,\n",
       "        8.04652124e-01,  8.07522152e-01,  8.05958572e-01,  8.04102576e-01,\n",
       "        8.08665189e-01,  8.09582928e-01,  8.12518033e-01,  8.11554485e-01,\n",
       "        1.06485244e+00,  1.06315067e+00,  1.06144437e+00,  1.06175110e+00,\n",
       "        1.05986310e+00,  1.05837806e+00,  8.13964893e-01,  8.18261030e-01,\n",
       "        8.15105390e-01,  8.13856067e-01,  8.19751580e-01,  8.20706606e-01,\n",
       "        8.17064432e-01,  8.16951568e-01,  8.15960148e-01,  8.22459810e-01,\n",
       "        8.24785415e-01,  8.25369943e-01,  8.32086522e-01,  8.26334454e-01,\n",
       "        8.29569406e-01,  8.28740204e-01,  8.27384777e-01,  8.27737865e-01,\n",
       "        8.30983067e-01,  8.31342340e-01,  1.05867362e+00,  1.05450948e+00,\n",
       "        1.05289068e+00,  1.05033662e+00,  1.04967480e+00,  1.05597002e+00,\n",
       "        1.05737145e+00,  1.05719983e+00,  1.05609372e+00,  1.04749467e+00,\n",
       "        1.04893941e+00,  1.04866850e+00,  1.04399432e+00,  1.04557824e+00,\n",
       "        1.04637709e+00,  1.04169689e+00,  1.04251841e+00,  1.02211495e+00,\n",
       "        1.02365019e+00,  1.03924144e+00,  1.03863972e+00,  1.02456885e+00,\n",
       "        1.02531112e+00,  1.03730293e+00,  1.02708267e+00,  1.02818758e+00,\n",
       "        1.03036757e+00,  1.02632529e+00,  1.03083476e+00,  1.02911691e+00,\n",
       "        1.03297812e+00,  1.03441918e+00,  1.03168279e+00,  1.03611128e+00,\n",
       "        1.04273567e+00,  1.03643306e+00,  1.03453711e+00,  8.36016761e-01,\n",
       "        8.33783194e-01,  1.01533076e+00,  1.01570684e+00,  1.01721427e+00,\n",
       "        1.01888929e+00,  1.02016447e+00,  1.01998198e+00,  8.42329151e-01,\n",
       "        8.43986093e-01,  8.45366855e-01,  8.46098276e-01,  8.35504301e-01,\n",
       "        8.38139098e-01,  8.46561801e-01,  8.40875530e-01,  8.38599164e-01,\n",
       "        8.38427002e-01,  8.40619522e-01,  1.00970665e+00,  1.01074179e+00,\n",
       "        1.00765823e+00,  1.01205203e+00,  1.01350003e+00,  1.01366812e+00,\n",
       "        1.01676794e+00,  8.35400278e-01,  8.48226060e-01,  8.48656486e-01,\n",
       "        8.49958987e-01,  8.51019028e-01,  8.53460096e-01,  8.55498597e-01,\n",
       "        8.54479327e-01,  8.52274726e-01,  8.51862509e-01,  8.56444892e-01,\n",
       "        8.57826565e-01,  8.69834302e-01,  8.59157519e-01,  8.67908701e-01,\n",
       "        8.60325640e-01,  8.61149659e-01,  8.63190108e-01,  1.00713939e+00,\n",
       "        1.00242743e+00,  1.00281749e+00,  1.00593906e+00,  1.00581470e+00,\n",
       "        1.00496863e+00,  9.89140825e-01,  8.64054466e-01,  1.00458434e+00,\n",
       "        9.96598556e-01,  9.95042933e-01,  9.90037365e-01,  9.93851816e-01,\n",
       "        9.91568820e-01,  9.99529069e-01,  9.98869125e-01,  9.98046325e-01,\n",
       "        8.66983175e-01,  8.70461991e-01,  8.72092075e-01,  8.65181218e-01,\n",
       "        8.64568800e-01,  8.73127171e-01,  8.74221834e-01,  9.91411010e-01,\n",
       "        8.76002902e-01,  8.76458009e-01,  9.88131215e-01,  9.99377123e-01,\n",
       "        9.86724954e-01,  8.61718990e-01,  8.78216108e-01,  9.98252625e-01,\n",
       "        9.86206903e-01,  9.85256096e-01,  8.78533780e-01,  8.80248199e-01,\n",
       "        9.83463798e-01,  9.83841378e-01,  9.75417865e-01,  8.83948602e-01,\n",
       "        8.85098336e-01,  8.83174958e-01,  9.79524153e-01,  9.80189126e-01,\n",
       "        9.72769730e-01,  9.73138531e-01,  9.76999513e-01,  9.81332353e-01,\n",
       "        8.86718276e-01,  8.91477452e-01,  9.81115177e-01,  8.92952178e-01,\n",
       "        8.88098035e-01,  8.94177652e-01,  8.82130332e-01,  8.88784177e-01,\n",
       "        9.78367267e-01,  9.71311686e-01,  9.69117047e-01,  9.70431648e-01,\n",
       "        8.82306609e-01,  9.68091523e-01,  8.96472055e-01,  8.89494741e-01,\n",
       "        9.64839534e-01,  9.66403982e-01,  8.99135073e-01,  8.95245047e-01,\n",
       "        9.66506494e-01,  8.98756740e-01,  8.90292667e-01,  8.95504401e-01,\n",
       "        9.08267538e-01,  9.01519347e-01,  9.10300590e-01,  9.64191506e-01,\n",
       "        9.62359136e-01,  9.58938418e-01,  9.58109698e-01,  9.60176251e-01,\n",
       "        9.61686488e-01,  9.06662723e-01,  9.60655535e-01,  9.55892442e-01,\n",
       "        9.05558409e-01,  9.19718457e-01,  9.11210697e-01,  9.17299029e-01,\n",
       "        9.26529840e-01,  9.12112826e-01,  9.21972140e-01,  9.27914546e-01,\n",
       "        9.26966097e-01,  9.54209288e-01,  9.51649316e-01,  9.52945091e-01,\n",
       "        9.22430593e-01,  9.23435263e-01,  9.16098910e-01,  9.24316263e-01,\n",
       "        9.02529026e-01,  9.50064750e-01,  9.31063470e-01,  9.35733937e-01,\n",
       "        9.35031620e-01,  9.47191965e-01,  9.33158933e-01,  9.15253758e-01,\n",
       "        9.48302948e-01,  9.04220635e-01,  9.36808010e-01,  9.38453774e-01,\n",
       "        9.44294058e-01,  9.41044664e-01,  9.03716439e-01,  9.41940171e-01,\n",
       "        9.38854211e-01,  9.18357885e-01,  9.13077895e-01,  9.45496247e-01,\n",
       "        9.43067127e-01,  9.14683326e-01,  9.13868047e-01,  9.02310589e-01,\n",
       "        9.54761472e-01,  9.04740333e-01,  9.29166367e-01,  9.29277689e-01,\n",
       "        9.42409799e-01,  9.33718703e-01,  9.53383434e-01,  9.45792861e-01,\n",
       "        9.48801656e-01,  8.72911003e-01,  9.31713830e-01,  9.77668949e-01])"
      ]
     },
     "execution_count": 18,
     "metadata": {},
     "output_type": "execute_result"
    }
   ],
   "source": [
    "e"
   ]
  },
  {
   "cell_type": "code",
   "execution_count": 19,
   "metadata": {},
   "outputs": [
    {
     "data": {
      "text/plain": [
       "1.5924617911775951"
      ]
     },
     "execution_count": 19,
     "metadata": {},
     "output_type": "execute_result"
    }
   ],
   "source": [
    "# 最大特征值\n",
    "max(e)"
   ]
  },
  {
   "cell_type": "code",
   "execution_count": 20,
   "metadata": {},
   "outputs": [
    {
     "data": {
      "text/plain": [
       "-1.3640460507873908e-16"
      ]
     },
     "execution_count": 20,
     "metadata": {},
     "output_type": "execute_result"
    }
   ],
   "source": [
    "# 最小特征值\n",
    "min(e)"
   ]
  },
  {
   "cell_type": "markdown",
   "metadata": {},
   "source": [
    "## 特征值分布直方图"
   ]
  },
  {
   "cell_type": "code",
   "execution_count": 21,
   "metadata": {},
   "outputs": [
    {
     "data": {
      "image/png": "[encoded data removed]",
      "text/plain": [
       "<Figure size 1200x800 with 1 Axes>"
      ]
     },
     "metadata": {},
     "output_type": "display_data"
    }
   ],
   "source": [
    "plt.figure(figsize=(12,8))\n",
    "\n",
    "plt.hist(e, bins=100)\n",
    "plt.xlim(0, 2)  # eigenvalues between 0 and 2\n",
    "\n",
    "plt.title('Eigenvalue Histogram', fontsize=20)\n",
    "plt.ylabel('Frequency', fontsize=25)\n",
    "plt.xlabel('Eigenvalue', fontsize=25)\n",
    "plt.tick_params(labelsize=20) # 设置坐标文字大小\n",
    "plt.show()"
   ]
  },
  {
   "cell_type": "code",
   "execution_count": null,
   "metadata": {},
   "outputs": [],
   "source": []
  }
 ],
 "metadata": {
  "kernelspec": {
   "display_name": "Python 3 (ipykernel)",
   "language": "python",
   "name": "python3"
  },
  "language_info": {
   "codemirror_mode": {
    "name": "ipython",
    "version": 3
   },
   "file_extension": ".py",
   "mimetype": "text/x-python",
   "name": "python",
   "nbconvert_exporter": "python",
   "pygments_lexer": "ipython3",
   "version": "3.10.11"
  }
 },
 "nbformat": 4,
 "nbformat_minor": 4
}
